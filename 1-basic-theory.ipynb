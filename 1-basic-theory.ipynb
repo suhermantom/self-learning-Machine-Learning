{
 "cells": [
  {
   "cell_type": "markdown",
   "id": "consolidated-minute",
   "metadata": {},
   "source": [
    "# Learning ML from Books:\n",
    "\n",
    "* List of Books:\n",
    "1. [Hands-On Machine Learning with Scikit-Learn, Keras, and TensorFlow, 2e,  Aurélien Géron] (https://learning.oreilly.com/library/view/hands-on-machine-learning/9781492032632/)\n",
    "\n",
    "2. [Python Machine Learning, 2e, Sebastian Raschka] (https://learning.oreilly.com/library/view/python-machine-learning/9781783555130/)\n",
    "\n"
   ]
  },
  {
   "cell_type": "markdown",
   "id": "specified-processing",
   "metadata": {},
   "source": [
    "### Why Use Machine Learning?\n",
    "\n",
    "Consider how you would write a spam filter using traditional programming techniques (Figure 1-1):\n",
    "\n",
    "1. First you would consider what spam typically looks like. You might notice that some words or phrases (such as “4U,” “credit card,” “free,” and “amazing”) tend to come up a lot in the subject line. Perhaps you would also notice a few other patterns in the sender’s name, the email’s body, and other parts of the email.\n",
    "\n",
    "2. You would write a detection algorithm for each of the patterns that you noticed, and your program would flag emails as spam if a number of these patterns were detected.\n",
    "\n",
    "3. You would test your program and repeat steps 1 and 2 until it was good enough to launch.\n",
    "\n",
    "![1.1_The-traditional-approach](img/1.1_The-traditional-approach.png \"1.1_The-traditional-approach\")\n",
    "\n",
    "![1.2_The-ML-approach](img/1.2_The-ML-approach.png '1.2_The-ML-approach')\n",
    "\n",
    "![1.3_The-ML-autoadapt-approach](img/1.3_The-ML-autoadapt-approach.png '1.3_The-ML-autoadapt-approach')\n",
    "\n",
    "![1.4_The-ML-help-humans-learn](img/1.4_The-ML-help-humans-learn.png '1.4_The-ML-help-humans-learn')"
   ]
  },
  {
   "cell_type": "markdown",
   "id": "approved-wells",
   "metadata": {},
   "source": [
    "### Examples of Applications\n",
    "Let’s look at some concrete examples of Machine Learning tasks, along with the techniques that can tackle them:\n",
    "\n",
    "_Analyzing images of products on a production line to automatically classify them_:This is image classification, typically performed using convolutional neural networks (CNNs; see Chapter 14).\n",
    "\n",
    "_Detecting tumors in brain scans_:This is semantic segmentation, where each pixel in the image is classified (as we want to determine the exact location and shape of tumors), typically using CNNs as well.\n",
    "\n",
    "_Automatically classifying news articles_:This is natural language processing (NLP), and more specifically text classification, which can be tackled using recurrent neural networks (RNNs), CNNs, or Transformers (see Chapter 16).\n",
    "\n",
    "_Automatically flagging offensive comments on discussion forums_:This is also text classification, using the same NLP tools.\n",
    "\n",
    "_Summarizing long documents automatically_:This is a branch of NLP called text summarization, again using the same tools.\n",
    "\n",
    "_Creating a chatbot or a personal assistant_:This involves many NLP components, including natural language understanding (NLU) and question-answering modules.\n",
    "\n",
    "_Forecasting your company’s revenue next year, based on many performance metrics_:This is a regression task (i.e., predicting values) that may be tackled using any regression model, such as a Linear Regression or Polynomial Regression model (see Chapter 4), a regression SVM (see Chapter 5), a regression Random Forest (see Chapter 7), or an artificial neural network (see Chapter 10). If you want to take into account sequences of past performance metrics, you may want to use RNNs, CNNs, or Transformers (see Chapters 15 and 16).\n",
    "\n",
    "_Making your app react to voice commands_:This is speech recognition, which requires processing audio samples: since they are long and complex sequences, they are typically processed using RNNs, CNNs, or Transformers (see Chapters 15 and 16).\n",
    "\n",
    "_Detecting credit card fraud_:This is anomaly detection (see Chapter 9).\n",
    "\n",
    "Segmenting clients based on their purchases so that you can design a different marketing strategy for each segment\n",
    "This is clustering (see Chapter 9).\n",
    "\n",
    "_Representing a complex, high-dimensional dataset in a clear and insightful diagram_:This is data visualization, often involving dimensionality reduction techniques (see Chapter 8).\n",
    "\n",
    "_Recommending a product that a client may be interested in, based on past purchases_:This is a recommender system. One approach is to feed past purchases (and other information about the client) to an artificial neural network (see Chapter 10), and get it to output the most likely next purchase. This neural net would typically be trained on past sequences of purchases across all clients.\n",
    "\n",
    "_Building an intelligent bot for a game_:This is often tackled using Reinforcement Learning (RL; see Chapter 18), which is a branch of Machine Learning that trains agents (such as bots) to pick the actions that will maximize their rewards over time (e.g., a bot may get a reward every time the player loses some life points), within a given environment (such as the game). The famous AlphaGo program that beat the world champion at the game of Go was built using RL.\n",
    "\n",
    "This list could go on and on, but hopefully it gives you a sense of the incredible breadth and complexity of the tasks that Machine Learning can tackle, and the types of techniques that you would use for each task."
   ]
  },
  {
   "cell_type": "code",
   "execution_count": null,
   "id": "thorough-jesus",
   "metadata": {},
   "outputs": [],
   "source": []
  },
  {
   "cell_type": "code",
   "execution_count": null,
   "id": "composite-focus",
   "metadata": {},
   "outputs": [],
   "source": []
  },
  {
   "cell_type": "code",
   "execution_count": null,
   "id": "documentary-difficulty",
   "metadata": {},
   "outputs": [],
   "source": []
  },
  {
   "cell_type": "code",
   "execution_count": null,
   "id": "leading-basement",
   "metadata": {},
   "outputs": [],
   "source": []
  },
  {
   "cell_type": "code",
   "execution_count": null,
   "id": "french-services",
   "metadata": {},
   "outputs": [],
   "source": []
  }
 ],
 "metadata": {
  "kernelspec": {
   "display_name": "Python 3",
   "language": "python",
   "name": "python3"
  },
  "language_info": {
   "codemirror_mode": {
    "name": "ipython",
    "version": 3
   },
   "file_extension": ".py",
   "mimetype": "text/x-python",
   "name": "python",
   "nbconvert_exporter": "python",
   "pygments_lexer": "ipython3",
   "version": "3.7.9"
  }
 },
 "nbformat": 4,
 "nbformat_minor": 5
}
